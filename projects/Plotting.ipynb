{
 "cells": [
  {
   "cell_type": "code",
   "execution_count": 1,
   "metadata": {
    "collapsed": false
   },
   "outputs": [],
   "source": [
    "import sys\n",
    "sys.path.append('../')\n",
    "sys.path.append('../../')\n",
    "from errorpro.interactive import *\n",
    "init(locals())"
   ]
  },
  {
   "cell_type": "code",
   "execution_count": 9,
   "metadata": {
    "collapsed": true
   },
   "outputs": [],
   "source": [
    "%%eq\n",
    "{\n",
    "Spannung U <0.1> [V], Geschwindigkeit v <10> [km/h]\n",
    "    1   260\n",
    "    1.5 355\n",
    "    2   360\n",
    "    2.5 410\n",
    "    3   500\n",
    "    3.5 480\n",
    "    4   580\n",
    "}"
   ]
  },
  {
   "cell_type": "code",
   "execution_count": 10,
   "metadata": {
    "collapsed": false
   },
   "outputs": [
    {
     "data": {
      "text/latex": [
       "Results of fit<div width=20px/><button onclick='var e = document.getElementById(\"d1\").style;if (e.display==\"none\"){e.display=\"block\";}else {e.display=\"none\";}'>Results</button><button onclick='var e = document.getElementById(\"d2\").style;if (e.display==\"none\"){e.display=\"block\";}else {e.display=\"none\";}'>Plot</button><hr/><div id=\"d1\" style=\"display:block\"> <table style=\"border:0;width:100%;border-collapse:collapse;\">\n",
       "\t<tr style=\"border:0;border-top:1px solid black;border-bottom:1px solid black;\">\n",
       "\t\t<td style=\"border:0;border-left:1px solid black;border-right:1px solid black;text-align:center;\">$v_{0} \\; \\mathrm{\\left[\\frac{m}{s}\\right]}$</td>\n",
       "\t\t<td style=\"border:0;border-left:1px solid black;border-right:1px solid black;text-align:center;\">$U_{0} \\; \\mathrm{\\left[V\\right]}$</td>\n",
       "\t\t<td style=\"border:0;border-left:1px solid black;border-right:1px solid black;text-align:center;\">$z \\; \\mathrm{\\left[V\\right]}$</td>\n",
       "\t\t<td style=\"border:0;border-left:1px solid black;border-right:1px solid black;text-align:center;\">$a \\; \\mathrm{\\left[\\frac{km}{h}\\right]}$</td>\n",
       "\t</tr>\n",
       "\t<tr style=\"border:0;border-top:1px solid black;border-bottom:1px solid black;\">\n",
       "\t\t<td style=\"border:0;border-left:1px solid black;border-right:1px solid black;text-align:center;\">$62 \\pm 7$</td>\n",
       "\t\t<td style=\"border:0;border-left:1px solid black;border-right:1px solid black;text-align:center;\">$4.1 \\pm 0.6$</td>\n",
       "\t\t<td style=\"border:0;border-left:1px solid black;border-right:1px solid black;text-align:center;\">$0.114 \\pm 0.004$</td>\n",
       "\t\t<td style=\"border:0;border-left:1px solid black;border-right:1px solid black;text-align:center;\">$23 \\pm 21$</td>\n",
       "\t</tr>\n",
       "</table> </div><br><div id=\"d2\" style=\"display:none\"> blub </div>"
      ],
      "text/plain": [
       "<IPython.core.display.Latex object>"
      ]
     },
     "execution_count": 10,
     "metadata": {},
     "output_type": "execute_result"
    }
   ],
   "source": [
    "v0, U0 = params('v0 U0')\n",
    "z = assign(0.1, unit=\"V\", name=\"z\")\n",
    "a = assign(5, unit=\"km/h\", name=\"a\")\n",
    "fit(v0*exp(U/U0) + a*sin(U/z), U, v, [v0, U0, z, a])"
   ]
  },
  {
   "cell_type": "code",
   "execution_count": 12,
   "metadata": {
    "collapsed": false
   },
   "outputs": [
    {
     "data": {
      "image/png": "[encoded data removed]",
      "text/plain": [
       "<matplotlib.figure.Figure at 0x9ae25f0>"
      ]
     },
     "metadata": {},
     "output_type": "display_data"
    }
   ],
   "source": [
    "plot(U,v, {'label':'Messpunkte'}, U, v0*exp(U/U0) + a*sin(U/z), {'color':'b', 'label':'geiler Fit'}, xrange=[0.5,4.5], xlabel='Spannung $U$ [V]', size=[8,5])"
   ]
  },
  {
   "cell_type": "code",
   "execution_count": 2,
   "metadata": {
    "collapsed": false
   },
   "outputs": [],
   "source": [
    "%%eq\n",
    "x = 5 <0.1>\n",
    "y = 3*x**2 -x"
   ]
  },
  {
   "cell_type": "code",
   "execution_count": 6,
   "metadata": {
    "collapsed": false
   },
   "outputs": [
    {
     "data": {
      "image/png": "[encoded data removed]",
      "text/plain": [
       "<matplotlib.figure.Figure at 0x9c51fd0>"
      ]
     },
     "metadata": {},
     "output_type": "display_data"
    }
   ],
   "source": [
    "plot(x,y**2-y)"
   ]
  },
  {
   "cell_type": "code",
   "execution_count": 2,
   "metadata": {
    "collapsed": true
   },
   "outputs": [],
   "source": [
    "%%eq\n",
    "a = 1 <0.1>\n",
    "b = 1 <0.1>\n",
    "c = 1 <0.1>\n",
    "d = a/b+c/b"
   ]
  },
  {
   "cell_type": "code",
   "execution_count": 5,
   "metadata": {
    "collapsed": false
   },
   "outputs": [
    {
     "data": {
      "text/html": [
       "Displaying: $NoName_{2}$<div width=20px/><button onclick='var e = document.getElementById(\"d3\").style;if (e.display==\"none\"){e.display=\"block\";}else {e.display=\"none\";}'>Data</button><button onclick='var e = document.getElementById(\"d4\").style;if (e.display==\"none\"){e.display=\"block\";}else {e.display=\"none\";}'>LaTeX</button><hr/><div id=\"d3\" style=\"display:block\"> <table style=\"border:0;width:100%;border-collapse:collapse;\">\n",
       "\t<tr style=\"border:0;border-top:1px solid black;border-bottom:1px solid black;\">\n",
       "\t\t<td style=\"border:0;border-left:1px solid black;border-right:1px solid black;text-align:center;\">(c + d) $NoName_{2} \\; \\mathrm{\\left[1\\right]}$</td>\n",
       "\t</tr>\n",
       "\t<tr style=\"border:0;border-top:1px solid black;border-bottom:1px solid black;\">\n",
       "\t\t<td style=\"border:0;border-left:1px solid black;border-right:1px solid black;text-align:center;\">$3.00 \\pm 0.27$</td>\n",
       "\t</tr>\n",
       "</table> </div><br><div id=\"d4\" style=\"display:none\"> \\begin{table}[H]\n",
       "\\centering\n",
       "\t\\begin{tabular}{|c|}\n",
       "\t\\hline\n",
       "\t(c + d) $NoName_{2} \\; \\mathrm{\\left[1\\right]}$\\\\ \\hline\n",
       "\t$3.00 \\pm 0.27$\\\\ \\hline\n",
       "\t\\end{tabular}\n",
       "\\end{table} </div>"
      ],
      "text/plain": [
       "NoName_2"
      ]
     },
     "execution_count": 5,
     "metadata": {},
     "output_type": "execute_result"
    }
   ],
   "source": [
    "z = assign(d+c)\n",
    "z"
   ]
  }
 ],
 "metadata": {
  "kernelspec": {
   "display_name": "Python 3",
   "language": "python",
   "name": "python3"
  },
  "language_info": {
   "codemirror_mode": {
    "name": "ipython",
    "version": 3
   },
   "file_extension": ".py",
   "mimetype": "text/x-python",
   "name": "python",
   "nbconvert_exporter": "python",
   "pygments_lexer": "ipython3",
   "version": "3.4.3"
  }
 },
 "nbformat": 4,
 "nbformat_minor": 0
}
