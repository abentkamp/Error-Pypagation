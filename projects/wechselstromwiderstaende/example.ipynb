{
 "cells": [
  {
   "cell_type": "code",
   "execution_count": 1,
   "metadata": {
    "collapsed": false
   },
   "outputs": [],
   "source": [
    "import sys\n",
    "sys.path.append('../')\n",
    "sys.path.append('../../')\n",
    "\n",
    "%matplotlib inline\n",
    "\n",
    "from IPython.display import Latex\n",
    "\n",
    "import project\n",
    "p = project.Project()"
   ]
  },
  {
   "cell_type": "code",
   "execution_count": 2,
   "metadata": {
    "collapsed": true
   },
   "outputs": [],
   "source": [
    "p.load(\"ww.dat\")"
   ]
  },
  {
   "cell_type": "code",
   "execution_count": 3,
   "metadata": {
    "collapsed": false
   },
   "outputs": [
    {
     "name": "stdout",
     "output_type": "stream",
     "text": [
      "None\n",
      "\\begin{table}[H]\n",
      "\\centering\n",
      "\t\\begin{tabular}{|c|c|c|c|}\n",
      "\t\\hline\n",
      "\tFrequenz f_I [Hz] & Strom I_I [mA] & Spannung U_I [V] & Z_0 [kOhm]\\\\ \\hline\n",
      "\t$\\phantom{0} 60.0 \\pm 0.5$ & $30.080 \\pm 0.006$ & $5.080 \\pm 0.006$ & $0.16888 \\pm 0.00017$\\\\ \n",
      "\t$100.0 \\pm 0.5$ & $19.830 \\pm 0.006$ & $5.120 \\pm 0.006$ & $0.25819 \\pm 0.00027$\\\\ \n",
      "\t$140.0 \\pm 0.5$ & $14.590 \\pm 0.006$ & $5.130 \\pm 0.006$ & $0.3516 \\phantom{0} \\pm 0.0004 \\phantom{0}$\\\\ \n",
      "\t$180.0 \\pm 0.5$ & $11.480 \\pm 0.006$ & $5.130 \\pm 0.006$ & $0.4469 \\phantom{0} \\pm 0.0005 \\phantom{0}$\\\\ \n",
      "\t$220.0 \\pm 0.5$ & $\\phantom{0} 9.440 \\pm 0.006$ & $5.130 \\pm 0.006$ & $0.5434 \\phantom{0} \\pm 0.0007 \\phantom{0}$\\\\ \n",
      "\t$260.0 \\pm 0.5$ & $\\phantom{0} 8.000 \\pm 0.006$ & $5.130 \\pm 0.006$ & $0.6412 \\phantom{0} \\pm 0.0008 \\phantom{0}$\\\\ \n",
      "\t$300.0 \\pm 0.5$ & $\\phantom{0} 6.940 \\pm 0.006$ & $5.120 \\pm 0.006$ & $0.7378 \\phantom{0} \\pm 0.0009 \\phantom{0}$\\\\ \n",
      "\t$340.0 \\pm 0.5$ & $\\phantom{0} 6.120 \\pm 0.006$ & $5.120 \\pm 0.006$ & $0.8366 \\phantom{0} \\pm 0.0011 \\phantom{0}$\\\\ \n",
      "\t$380.0 \\pm 0.5$ & $\\phantom{0} 5.470 \\pm 0.006$ & $5.110 \\pm 0.006$ & $0.9342 \\phantom{0} \\pm 0.0013 \\phantom{0}$\\\\ \n",
      "\t$420.0 \\pm 0.5$ & $\\phantom{0} 4.940 \\pm 0.006$ & $5.100 \\pm 0.006$ & $1.0324 \\phantom{0} \\pm 0.0015 \\phantom{0}$\\\\ \n",
      "\t$460.0 \\pm 0.5$ & $\\phantom{0} 4.500 \\pm 0.006$ & $5.100 \\pm 0.006$ & $1.1333 \\phantom{0} \\pm 0.0017 \\phantom{0}$\\\\ \\hline\n",
      "\t\\end{tabular}\n",
      "\\end{table}\n"
     ]
    },
    {
     "data": {
      "text/latex": [
       "<table style=\"border:0;width:100%;border-collapse:collapse;\">\n",
       "\t<tr style=\"border:0;border-top:1px solid black;border-bottom:1px solid black;\">\n",
       "\t\t<td style=\"border:0;border-left:1px solid black;border-right:1px solid black;text-align:center;\">Frequenz f_I [Hz]</td>\n",
       "\t\t<td style=\"border:0;border-left:1px solid black;border-right:1px solid black;text-align:center;\">Strom I_I [mA]</td>\n",
       "\t\t<td style=\"border:0;border-left:1px solid black;border-right:1px solid black;text-align:center;\">Spannung U_I [V]</td>\n",
       "\t\t<td style=\"border:0;border-left:1px solid black;border-right:1px solid black;text-align:center;\">Z_0 [kOhm]</td>\n",
       "\t</tr>\n",
       "\t<tr style=\"border:0;border-top:1px solid black;border-bottom:0;\">\n",
       "\t\t<td style=\"border:0;border-left:1px solid black;border-right:1px solid black;text-align:center;\">$\\phantom{0} 60.0 \\pm 0.5$</td>\n",
       "\t\t<td style=\"border:0;border-left:1px solid black;border-right:1px solid black;text-align:center;\">$30.080 \\pm 0.006$</td>\n",
       "\t\t<td style=\"border:0;border-left:1px solid black;border-right:1px solid black;text-align:center;\">$5.080 \\pm 0.006$</td>\n",
       "\t\t<td style=\"border:0;border-left:1px solid black;border-right:1px solid black;text-align:center;\">$0.16888 \\pm 0.00017$</td>\n",
       "\t</tr>\n",
       "\t<tr style=\"border:0;border-top:0;border-bottom:0;\">\n",
       "\t\t<td style=\"border:0;border-left:1px solid black;border-right:1px solid black;text-align:center;\">$100.0 \\pm 0.5$</td>\n",
       "\t\t<td style=\"border:0;border-left:1px solid black;border-right:1px solid black;text-align:center;\">$19.830 \\pm 0.006$</td>\n",
       "\t\t<td style=\"border:0;border-left:1px solid black;border-right:1px solid black;text-align:center;\">$5.120 \\pm 0.006$</td>\n",
       "\t\t<td style=\"border:0;border-left:1px solid black;border-right:1px solid black;text-align:center;\">$0.25819 \\pm 0.00027$</td>\n",
       "\t</tr>\n",
       "\t<tr style=\"border:0;border-top:0;border-bottom:0;\">\n",
       "\t\t<td style=\"border:0;border-left:1px solid black;border-right:1px solid black;text-align:center;\">$140.0 \\pm 0.5$</td>\n",
       "\t\t<td style=\"border:0;border-left:1px solid black;border-right:1px solid black;text-align:center;\">$14.590 \\pm 0.006$</td>\n",
       "\t\t<td style=\"border:0;border-left:1px solid black;border-right:1px solid black;text-align:center;\">$5.130 \\pm 0.006$</td>\n",
       "\t\t<td style=\"border:0;border-left:1px solid black;border-right:1px solid black;text-align:center;\">$0.3516 \\phantom{0} \\pm 0.0004 \\phantom{0}$</td>\n",
       "\t</tr>\n",
       "\t<tr style=\"border:0;border-top:0;border-bottom:0;\">\n",
       "\t\t<td style=\"border:0;border-left:1px solid black;border-right:1px solid black;text-align:center;\">$180.0 \\pm 0.5$</td>\n",
       "\t\t<td style=\"border:0;border-left:1px solid black;border-right:1px solid black;text-align:center;\">$11.480 \\pm 0.006$</td>\n",
       "\t\t<td style=\"border:0;border-left:1px solid black;border-right:1px solid black;text-align:center;\">$5.130 \\pm 0.006$</td>\n",
       "\t\t<td style=\"border:0;border-left:1px solid black;border-right:1px solid black;text-align:center;\">$0.4469 \\phantom{0} \\pm 0.0005 \\phantom{0}$</td>\n",
       "\t</tr>\n",
       "\t<tr style=\"border:0;border-top:0;border-bottom:0;\">\n",
       "\t\t<td style=\"border:0;border-left:1px solid black;border-right:1px solid black;text-align:center;\">$220.0 \\pm 0.5$</td>\n",
       "\t\t<td style=\"border:0;border-left:1px solid black;border-right:1px solid black;text-align:center;\">$\\phantom{0} 9.440 \\pm 0.006$</td>\n",
       "\t\t<td style=\"border:0;border-left:1px solid black;border-right:1px solid black;text-align:center;\">$5.130 \\pm 0.006$</td>\n",
       "\t\t<td style=\"border:0;border-left:1px solid black;border-right:1px solid black;text-align:center;\">$0.5434 \\phantom{0} \\pm 0.0007 \\phantom{0}$</td>\n",
       "\t</tr>\n",
       "\t<tr style=\"border:0;border-top:0;border-bottom:0;\">\n",
       "\t\t<td style=\"border:0;border-left:1px solid black;border-right:1px solid black;text-align:center;\">$260.0 \\pm 0.5$</td>\n",
       "\t\t<td style=\"border:0;border-left:1px solid black;border-right:1px solid black;text-align:center;\">$\\phantom{0} 8.000 \\pm 0.006$</td>\n",
       "\t\t<td style=\"border:0;border-left:1px solid black;border-right:1px solid black;text-align:center;\">$5.130 \\pm 0.006$</td>\n",
       "\t\t<td style=\"border:0;border-left:1px solid black;border-right:1px solid black;text-align:center;\">$0.6412 \\phantom{0} \\pm 0.0008 \\phantom{0}$</td>\n",
       "\t</tr>\n",
       "\t<tr style=\"border:0;border-top:0;border-bottom:0;\">\n",
       "\t\t<td style=\"border:0;border-left:1px solid black;border-right:1px solid black;text-align:center;\">$300.0 \\pm 0.5$</td>\n",
       "\t\t<td style=\"border:0;border-left:1px solid black;border-right:1px solid black;text-align:center;\">$\\phantom{0} 6.940 \\pm 0.006$</td>\n",
       "\t\t<td style=\"border:0;border-left:1px solid black;border-right:1px solid black;text-align:center;\">$5.120 \\pm 0.006$</td>\n",
       "\t\t<td style=\"border:0;border-left:1px solid black;border-right:1px solid black;text-align:center;\">$0.7378 \\phantom{0} \\pm 0.0009 \\phantom{0}$</td>\n",
       "\t</tr>\n",
       "\t<tr style=\"border:0;border-top:0;border-bottom:0;\">\n",
       "\t\t<td style=\"border:0;border-left:1px solid black;border-right:1px solid black;text-align:center;\">$340.0 \\pm 0.5$</td>\n",
       "\t\t<td style=\"border:0;border-left:1px solid black;border-right:1px solid black;text-align:center;\">$\\phantom{0} 6.120 \\pm 0.006$</td>\n",
       "\t\t<td style=\"border:0;border-left:1px solid black;border-right:1px solid black;text-align:center;\">$5.120 \\pm 0.006$</td>\n",
       "\t\t<td style=\"border:0;border-left:1px solid black;border-right:1px solid black;text-align:center;\">$0.8366 \\phantom{0} \\pm 0.0011 \\phantom{0}$</td>\n",
       "\t</tr>\n",
       "\t<tr style=\"border:0;border-top:0;border-bottom:0;\">\n",
       "\t\t<td style=\"border:0;border-left:1px solid black;border-right:1px solid black;text-align:center;\">$380.0 \\pm 0.5$</td>\n",
       "\t\t<td style=\"border:0;border-left:1px solid black;border-right:1px solid black;text-align:center;\">$\\phantom{0} 5.470 \\pm 0.006$</td>\n",
       "\t\t<td style=\"border:0;border-left:1px solid black;border-right:1px solid black;text-align:center;\">$5.110 \\pm 0.006$</td>\n",
       "\t\t<td style=\"border:0;border-left:1px solid black;border-right:1px solid black;text-align:center;\">$0.9342 \\phantom{0} \\pm 0.0013 \\phantom{0}$</td>\n",
       "\t</tr>\n",
       "\t<tr style=\"border:0;border-top:0;border-bottom:0;\">\n",
       "\t\t<td style=\"border:0;border-left:1px solid black;border-right:1px solid black;text-align:center;\">$420.0 \\pm 0.5$</td>\n",
       "\t\t<td style=\"border:0;border-left:1px solid black;border-right:1px solid black;text-align:center;\">$\\phantom{0} 4.940 \\pm 0.006$</td>\n",
       "\t\t<td style=\"border:0;border-left:1px solid black;border-right:1px solid black;text-align:center;\">$5.100 \\pm 0.006$</td>\n",
       "\t\t<td style=\"border:0;border-left:1px solid black;border-right:1px solid black;text-align:center;\">$1.0324 \\phantom{0} \\pm 0.0015 \\phantom{0}$</td>\n",
       "\t</tr>\n",
       "\t<tr style=\"border:0;border-top:0;border-bottom:1px solid black;\">\n",
       "\t\t<td style=\"border:0;border-left:1px solid black;border-right:1px solid black;text-align:center;\">$460.0 \\pm 0.5$</td>\n",
       "\t\t<td style=\"border:0;border-left:1px solid black;border-right:1px solid black;text-align:center;\">$\\phantom{0} 4.500 \\pm 0.006$</td>\n",
       "\t\t<td style=\"border:0;border-left:1px solid black;border-right:1px solid black;text-align:center;\">$5.100 \\pm 0.006$</td>\n",
       "\t\t<td style=\"border:0;border-left:1px solid black;border-right:1px solid black;text-align:center;\">$1.1333 \\phantom{0} \\pm 0.0017 \\phantom{0}$</td>\n",
       "\t</tr>\n",
       "</table>"
      ],
      "text/plain": [
       "<IPython.core.display.Latex object>"
      ]
     },
     "execution_count": 3,
     "metadata": {},
     "output_type": "execute_result"
    }
   ],
   "source": [
    "p.table(\"f_I\",\"I_I\",\"U_I\",\"Z_0\")"
   ]
  },
  {
   "cell_type": "code",
   "execution_count": null,
   "metadata": {
    "collapsed": true
   },
   "outputs": [],
   "source": []
  }
 ],
 "metadata": {
  "kernelspec": {
   "display_name": "Python 3",
   "language": "python",
   "name": "python3"
  },
  "language_info": {
   "codemirror_mode": {
    "name": "ipython",
    "version": 3
   },
   "file_extension": ".py",
   "mimetype": "text/x-python",
   "name": "python",
   "nbconvert_exporter": "python",
   "pygments_lexer": "ipython3",
   "version": "3.4.3"
  }
 },
 "nbformat": 4,
 "nbformat_minor": 0
}
