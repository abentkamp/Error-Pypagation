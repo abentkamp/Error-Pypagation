{
 "cells": [
  {
   "cell_type": "code",
   "execution_count": 1,
   "metadata": {
    "collapsed": false
   },
   "outputs": [],
   "source": [
    "# Momentan ist noch der folgende Code nötig, um auf die Module zugreifen zu können.\n",
    "# Schön wäre, wenn das Programm in Zukunft über eine setup.py installiert werden könnte.\n",
    "# (da könnte dann auch gleich grako mit installiert werden)\n",
    "# In der Physik wäre das vielleicht mit virtualenv möglich\n",
    "import sys\n",
    "sys.path.append('../')\n",
    "sys.path.append('../../')\n",
    "\n",
    "%matplotlib inline\n",
    "\n",
    "from errorpypagation import project\n",
    "p = project.Project()"
   ]
  },
  {
   "cell_type": "code",
   "execution_count": 2,
   "metadata": {
    "collapsed": false,
    "scrolled": true
   },
   "outputs": [],
   "source": [
    "# Daten-Dateien sollten den Großteil der Messdaten und Berechnungen enthalten\n",
    "p.load(\"data.dat\")\n",
    "# Richtig cool wäre natürlich, wenn man solchen Code auch direkt in Jupyter-Zellen schreiben könnte.\n",
    "# Kann man irgendwie einen Zellentyp erstellen, der seinen Inhalt an eine Python-Funktion übergibt??"
   ]
  },
  {
   "cell_type": "code",
   "execution_count": 3,
   "metadata": {
    "collapsed": false
   },
   "outputs": [
    {
     "name": "stdout",
     "output_type": "stream",
     "text": [
      "\\begin{table}[H]\n",
      "\\centering\n",
      "\t\\begin{tabular}{|c|c|}\n",
      "\t\\hline\n",
      "\tZeit t [$s$] & Hoehe h [$m$]\\\\ \\hline\n",
      "\t$0.00 \\pm 0.11$ & $80.0 \\phantom{0} \\pm 0.5 \\phantom{0}$\\\\ \n",
      "\t$1.00 \\pm 0.11$ & $79.00 \\pm 0.30$\\\\ \n",
      "\t$2.00 \\pm 0.11$ & $76.0 \\phantom{0} \\pm 0.9 \\phantom{0}$\\\\ \n",
      "\t$3.00 \\pm 0.11$ & $72.0 \\phantom{0} \\pm 0.6 \\phantom{0}$\\\\ \n",
      "\t$4.00 \\pm 0.11$ & $65.0 \\phantom{0} \\pm 0.8 \\phantom{0}$\\\\ \n",
      "\t$5.00 \\pm 0.11$ & $53.0 \\phantom{0} \\pm 0.5 \\phantom{0}$\\\\ \n",
      "\t$6.00 \\pm 0.11$ & $37.00 \\pm 0.30$\\\\ \\hline\n",
      "\t\\end{tabular}\n",
      "\\end{table}\n"
     ]
    },
    {
     "data": {
      "text/latex": [
       "<table style=\"border:0;width:100%;border-collapse:collapse;\">\n",
       "\t<tr style=\"border:0;border-top:1px solid black;border-bottom:1px solid black;\">\n",
       "\t\t<td style=\"border:0;border-left:1px solid black;border-right:1px solid black;text-align:center;\">Zeit t [$s$]</td>\n",
       "\t\t<td style=\"border:0;border-left:1px solid black;border-right:1px solid black;text-align:center;\">Hoehe h [$m$]</td>\n",
       "\t</tr>\n",
       "\t<tr style=\"border:0;border-top:1px solid black;border-bottom:0;\">\n",
       "\t\t<td style=\"border:0;border-left:1px solid black;border-right:1px solid black;text-align:center;\">$0.00 \\pm 0.11$</td>\n",
       "\t\t<td style=\"border:0;border-left:1px solid black;border-right:1px solid black;text-align:center;\">$80.0 \\phantom{0} \\pm 0.5 \\phantom{0}$</td>\n",
       "\t</tr>\n",
       "\t<tr style=\"border:0;border-top:0;border-bottom:0;\">\n",
       "\t\t<td style=\"border:0;border-left:1px solid black;border-right:1px solid black;text-align:center;\">$1.00 \\pm 0.11$</td>\n",
       "\t\t<td style=\"border:0;border-left:1px solid black;border-right:1px solid black;text-align:center;\">$79.00 \\pm 0.30$</td>\n",
       "\t</tr>\n",
       "\t<tr style=\"border:0;border-top:0;border-bottom:0;\">\n",
       "\t\t<td style=\"border:0;border-left:1px solid black;border-right:1px solid black;text-align:center;\">$2.00 \\pm 0.11$</td>\n",
       "\t\t<td style=\"border:0;border-left:1px solid black;border-right:1px solid black;text-align:center;\">$76.0 \\phantom{0} \\pm 0.9 \\phantom{0}$</td>\n",
       "\t</tr>\n",
       "\t<tr style=\"border:0;border-top:0;border-bottom:0;\">\n",
       "\t\t<td style=\"border:0;border-left:1px solid black;border-right:1px solid black;text-align:center;\">$3.00 \\pm 0.11$</td>\n",
       "\t\t<td style=\"border:0;border-left:1px solid black;border-right:1px solid black;text-align:center;\">$72.0 \\phantom{0} \\pm 0.6 \\phantom{0}$</td>\n",
       "\t</tr>\n",
       "\t<tr style=\"border:0;border-top:0;border-bottom:0;\">\n",
       "\t\t<td style=\"border:0;border-left:1px solid black;border-right:1px solid black;text-align:center;\">$4.00 \\pm 0.11$</td>\n",
       "\t\t<td style=\"border:0;border-left:1px solid black;border-right:1px solid black;text-align:center;\">$65.0 \\phantom{0} \\pm 0.8 \\phantom{0}$</td>\n",
       "\t</tr>\n",
       "\t<tr style=\"border:0;border-top:0;border-bottom:0;\">\n",
       "\t\t<td style=\"border:0;border-left:1px solid black;border-right:1px solid black;text-align:center;\">$5.00 \\pm 0.11$</td>\n",
       "\t\t<td style=\"border:0;border-left:1px solid black;border-right:1px solid black;text-align:center;\">$53.0 \\phantom{0} \\pm 0.5 \\phantom{0}$</td>\n",
       "\t</tr>\n",
       "\t<tr style=\"border:0;border-top:0;border-bottom:1px solid black;\">\n",
       "\t\t<td style=\"border:0;border-left:1px solid black;border-right:1px solid black;text-align:center;\">$6.00 \\pm 0.11$</td>\n",
       "\t\t<td style=\"border:0;border-left:1px solid black;border-right:1px solid black;text-align:center;\">$37.00 \\pm 0.30$</td>\n",
       "\t</tr>\n",
       "</table>"
      ],
      "text/plain": [
       "<IPython.core.display.Latex object>"
      ]
     },
     "execution_count": 3,
     "metadata": {},
     "output_type": "execute_result"
    }
   ],
   "source": [
    "# Nun können wir die Ergebnisse auswerten.\n",
    "p.table(\"t\",\"h\")\n",
    "# Bei der Ausgabe der Table-Funktion wären Buttons für Latex-Code und reale Tabelle super.\n",
    "# hier scheint der Fehler leider durch pytex von 0.1 auf 0.11 geändert worden zu sein.\n",
    "# Außerdem bräuchte sie noch eine Einheitenwahl-Option."
   ]
  },
  {
   "cell_type": "code",
   "execution_count": 4,
   "metadata": {
    "collapsed": false
   },
   "outputs": [
    {
     "name": "stdout",
     "output_type": "stream",
     "text": [
      "\\begin{table}[H]\n",
      "\\centering\n",
      "\t\\begin{tabular}{|c|c|}\n",
      "\t\\hline\n",
      "\tZeit t [$ms$] & Hoehe h [$m$]\\\\ \\hline\n",
      "\t$\\phantom{000} 0 \\pm 100$ & $80.0 \\phantom{0} \\pm 0.5 \\phantom{0}$\\\\ \n",
      "\t$1000 \\pm 100$ & $79.00 \\pm 0.30$\\\\ \n",
      "\t$2000 \\pm 100$ & $76.0 \\phantom{0} \\pm 0.9 \\phantom{0}$\\\\ \n",
      "\t$3000 \\pm 100$ & $72.0 \\phantom{0} \\pm 0.6 \\phantom{0}$\\\\ \n",
      "\t$4000 \\pm 100$ & $65.0 \\phantom{0} \\pm 0.8 \\phantom{0}$\\\\ \n",
      "\t$5000 \\pm 100$ & $53.0 \\phantom{0} \\pm 0.5 \\phantom{0}$\\\\ \n",
      "\t$6000 \\pm 100$ & $37.00 \\pm 0.30$\\\\ \\hline\n",
      "\t\\end{tabular}\n",
      "\\end{table}\n"
     ]
    },
    {
     "data": {
      "text/latex": [
       "<table style=\"border:0;width:100%;border-collapse:collapse;\">\n",
       "\t<tr style=\"border:0;border-top:1px solid black;border-bottom:1px solid black;\">\n",
       "\t\t<td style=\"border:0;border-left:1px solid black;border-right:1px solid black;text-align:center;\">Zeit t [$ms$]</td>\n",
       "\t\t<td style=\"border:0;border-left:1px solid black;border-right:1px solid black;text-align:center;\">Hoehe h [$m$]</td>\n",
       "\t</tr>\n",
       "\t<tr style=\"border:0;border-top:1px solid black;border-bottom:0;\">\n",
       "\t\t<td style=\"border:0;border-left:1px solid black;border-right:1px solid black;text-align:center;\">$\\phantom{000} 0 \\pm 100$</td>\n",
       "\t\t<td style=\"border:0;border-left:1px solid black;border-right:1px solid black;text-align:center;\">$80.0 \\phantom{0} \\pm 0.5 \\phantom{0}$</td>\n",
       "\t</tr>\n",
       "\t<tr style=\"border:0;border-top:0;border-bottom:0;\">\n",
       "\t\t<td style=\"border:0;border-left:1px solid black;border-right:1px solid black;text-align:center;\">$1000 \\pm 100$</td>\n",
       "\t\t<td style=\"border:0;border-left:1px solid black;border-right:1px solid black;text-align:center;\">$79.00 \\pm 0.30$</td>\n",
       "\t</tr>\n",
       "\t<tr style=\"border:0;border-top:0;border-bottom:0;\">\n",
       "\t\t<td style=\"border:0;border-left:1px solid black;border-right:1px solid black;text-align:center;\">$2000 \\pm 100$</td>\n",
       "\t\t<td style=\"border:0;border-left:1px solid black;border-right:1px solid black;text-align:center;\">$76.0 \\phantom{0} \\pm 0.9 \\phantom{0}$</td>\n",
       "\t</tr>\n",
       "\t<tr style=\"border:0;border-top:0;border-bottom:0;\">\n",
       "\t\t<td style=\"border:0;border-left:1px solid black;border-right:1px solid black;text-align:center;\">$3000 \\pm 100$</td>\n",
       "\t\t<td style=\"border:0;border-left:1px solid black;border-right:1px solid black;text-align:center;\">$72.0 \\phantom{0} \\pm 0.6 \\phantom{0}$</td>\n",
       "\t</tr>\n",
       "\t<tr style=\"border:0;border-top:0;border-bottom:0;\">\n",
       "\t\t<td style=\"border:0;border-left:1px solid black;border-right:1px solid black;text-align:center;\">$4000 \\pm 100$</td>\n",
       "\t\t<td style=\"border:0;border-left:1px solid black;border-right:1px solid black;text-align:center;\">$65.0 \\phantom{0} \\pm 0.8 \\phantom{0}$</td>\n",
       "\t</tr>\n",
       "\t<tr style=\"border:0;border-top:0;border-bottom:0;\">\n",
       "\t\t<td style=\"border:0;border-left:1px solid black;border-right:1px solid black;text-align:center;\">$5000 \\pm 100$</td>\n",
       "\t\t<td style=\"border:0;border-left:1px solid black;border-right:1px solid black;text-align:center;\">$53.0 \\phantom{0} \\pm 0.5 \\phantom{0}$</td>\n",
       "\t</tr>\n",
       "\t<tr style=\"border:0;border-top:0;border-bottom:1px solid black;\">\n",
       "\t\t<td style=\"border:0;border-left:1px solid black;border-right:1px solid black;text-align:center;\">$6000 \\pm 100$</td>\n",
       "\t\t<td style=\"border:0;border-left:1px solid black;border-right:1px solid black;text-align:center;\">$37.00 \\pm 0.30$</td>\n",
       "\t</tr>\n",
       "</table>"
      ],
      "text/plain": [
       "<IPython.core.display.Latex object>"
      ]
     },
     "execution_count": 4,
     "metadata": {},
     "output_type": "execute_result"
    }
   ],
   "source": [
    "# Bisher lässt sich das nur mit prefUnit realisieren:\n",
    "from errorpypagation import si\n",
    "from errorpypagation.units import parse_unit\n",
    "p.data[\"t\"].value_prefUnit = parse_unit(\"ms\",si.system)[2]\n",
    "p.table(\"t\",\"h\")"
   ]
  },
  {
   "cell_type": "code",
   "execution_count": 5,
   "metadata": {
    "collapsed": false
   },
   "outputs": [
    {
     "name": "stdout",
     "output_type": "stream",
     "text": [
      "\\begin{table}[H]\n",
      "\\centering\n",
      "\t\\begin{tabular}{|c|}\n",
      "\t\\hline\n",
      "\tAbstand r [$km$]\\\\ \\hline\n",
      "\t$(161 \\pm 7) \\times 10^{2}$\\\\ \\hline\n",
      "\t\\end{tabular}\n",
      "\\end{table}\n"
     ]
    },
    {
     "data": {
      "text/latex": [
       "<table style=\"border:0;width:100%;border-collapse:collapse;\">\n",
       "\t<tr style=\"border:0;border-top:1px solid black;border-bottom:1px solid black;\">\n",
       "\t\t<td style=\"border:0;border-left:1px solid black;border-right:1px solid black;text-align:center;\">Abstand r [$km$]</td>\n",
       "\t</tr>\n",
       "\t<tr style=\"border:0;border-top:1px solid black;border-bottom:1px solid black;\">\n",
       "\t\t<td style=\"border:0;border-left:1px solid black;border-right:1px solid black;text-align:center;\">$(161 \\pm 7) \\times 10^{2}$</td>\n",
       "\t</tr>\n",
       "</table>"
      ],
      "text/plain": [
       "<IPython.core.display.Latex object>"
      ]
     },
     "execution_count": 5,
     "metadata": {},
     "output_type": "execute_result"
    }
   ],
   "source": [
    "# Unser Ergebnis für r lässt sich momentan in IPython\n",
    "# nur durch die table-Funktion ausgeben. Hier wäre eine\n",
    "# schöne Quantity-Ausgabe eines/aller Ergebnisse wünschenswert.\n",
    "p.table(\"r\")"
   ]
  },
  {
   "cell_type": "code",
   "execution_count": 6,
   "metadata": {
    "collapsed": false
   },
   "outputs": [
    {
     "name": "stderr",
     "output_type": "stream",
     "text": [
      "/home/lukas/anaconda3/lib/python3.5/site-packages/matplotlib/collections.py:590: FutureWarning: elementwise comparison failed; returning scalar instead, but in the future will perform elementwise comparison\n",
      "  if self._edgecolors == str('face'):\n"
     ]
    },
    {
     "data": {
      "image/png": "[encoded data removed]",
      "text/plain": [
       "<matplotlib.figure.Figure at 0x7f865edc9390>"
      ]
     },
     "execution_count": 6,
     "metadata": {},
     "output_type": "execute_result"
    },
    {
     "data": {
      "image/png": "[encoded data removed]",
      "text/plain": [
       "<matplotlib.figure.Figure at 0x7f865edc9390>"
      ]
     },
     "metadata": {},
     "output_type": "display_data"
    }
   ],
   "source": [
    "p.plot([\"t\",\"-h\"],[\"t\",\"-g_real * (t-t0)**2 - c\"],[\"t\",\"g * (t-t0)**2 - c\"])\n",
    "# An der Plot-Funktion lässt sich noch vieles (!) verbessern. Warum gibt er es zweimal aus??"
   ]
  },
  {
   "cell_type": "code",
   "execution_count": 7,
   "metadata": {
    "collapsed": false
   },
   "outputs": [
    {
     "data": {
      "text/plain": [
       "'\\\\sigma{\\\\left (r \\\\right )} = \\\\sqrt{- \\\\frac{\\\\sigma^{2}{\\\\left (g_{real} \\\\right )}}{4 g_{real}^{3}} G M - \\\\frac{G \\\\sigma^{2}{\\\\left (M \\\\right )}}{4 M g_{real}} - \\\\frac{M \\\\sigma^{2}{\\\\left (G \\\\right )}}{4 G g_{real}}}'"
      ]
     },
     "execution_count": 7,
     "metadata": {},
     "output_type": "execute_result"
    }
   ],
   "source": [
    "# Mit der Formula-Funktion kann die Fehlerformel ausgegeben werden:\n",
    "p.formula(\"r\")\n",
    "# Fehler werden mit einer \"\\sigma()\"-Funktion ausgegeben."
   ]
  },
  {
   "cell_type": "code",
   "execution_count": null,
   "metadata": {
    "collapsed": true
   },
   "outputs": [],
   "source": [
    "# p.assign und p.code sind tendenziell Funktionen,\n",
    "# die nicht für den normalen produktiven Einsatz gedacht sind.\n",
    "# Für p.code wäre eine formschönere Alternative gut.\n",
    "# p.assign kann man nutzen, wenn man z.B. Ergebnisse eines\n",
    "# eigenen Python-Skripts wieder ins System schieben will."
   ]
  },
  {
   "cell_type": "code",
   "execution_count": 8,
   "metadata": {
    "collapsed": false
   },
   "outputs": [],
   "source": [
    "# p.save erzeugt den automatischen Output.\n",
    "# Bisher besteht der aus einer csv-Datei mit den Ergebnissen.\n",
    "# Wenn du eine richtig gute Ausgabe aller Ergebnisse in IPython\n",
    "# hinbekommst, wäre das wohl nicht mehr notwendig.\n",
    "# Angedacht ist noch eine Datei mit Fehlerformeln, um für schnelle\n",
    "# Nutzung auch schnelle Ergebnisse zu liefern.\n",
    "p.save()"
   ]
  }
 ],
 "metadata": {
  "kernelspec": {
   "display_name": "Python 3",
   "language": "python",
   "name": "python3"
  },
  "language_info": {
   "codemirror_mode": {
    "name": "ipython",
    "version": 3
   },
   "file_extension": ".py",
   "mimetype": "text/x-python",
   "name": "python",
   "nbconvert_exporter": "python",
   "pygments_lexer": "ipython3",
   "version": "3.5.0"
  }
 },
 "nbformat": 4,
 "nbformat_minor": 0
}
