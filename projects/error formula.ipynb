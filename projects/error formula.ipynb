{
 "cells": [
  {
   "cell_type": "code",
   "execution_count": 31,
   "metadata": {
    "collapsed": true
   },
   "outputs": [],
   "source": [
    "import sys\n",
    "sys.path.append('../')\n",
    "sys.path.append('../../')\n",
    "from errorpro.interactive import *\n",
    "init(locals())\n"
   ]
  },
  {
   "cell_type": "code",
   "execution_count": 32,
   "metadata": {
    "collapsed": true
   },
   "outputs": [],
   "source": [
    "%%eq\n",
    "a = 1 <0.1>\n",
    "b = 2 <0.1>\n",
    "c = 3 <0.1>\n",
    "d = 4 <0.1>\n",
    "\n",
    "z= d/(a**3 - c*sin(b**2))\n",
    "# = a**3 - b**2"
   ]
  },
  {
   "cell_type": "code",
   "execution_count": 33,
   "metadata": {
    "collapsed": false
   },
   "outputs": [
    {
     "data": {
      "text/latex": [
       "$\\sqrt{\\frac{9 a^{4} d^{2} a_{err}^{2}}{\\left(a^{3} - c \\sin{\\left (b^{2} \\right )}\\right)^{4}} + \\frac{4 b^{2} c^{2} d^{2} b_{err}^{2} \\cos^{2}{\\left (b^{2} \\right )}}{\\left(a^{3} - c \\sin{\\left (b^{2} \\right )}\\right)^{4}} + \\frac{d^{2} c_{err}^{2} \\sin^{2}{\\left (b^{2} \\right )}}{\\left(a^{3} - c \\sin{\\left (b^{2} \\right )}\\right)^{4}} + \\frac{d_{err}^{2}}{\\left(a^{3} - c \\sin{\\left (b^{2} \\right )}\\right)^{2}}}$"
      ],
      "text/plain": [
       "<IPython.core.display.Latex object>"
      ]
     },
     "execution_count": 33,
     "metadata": {},
     "output_type": "execute_result"
    }
   ],
   "source": [
    "s = z.error_formula\n",
    "render_latex('$'+latex(s)+'$')"
   ]
  }
 ],
 "metadata": {
  "kernelspec": {
   "display_name": "Python 3",
   "language": "python",
   "name": "python3"
  },
  "language_info": {
   "codemirror_mode": {
    "name": "ipython",
    "version": 3
   },
   "file_extension": ".py",
   "mimetype": "text/x-python",
   "name": "python",
   "nbconvert_exporter": "python",
   "pygments_lexer": "ipython3",
   "version": "3.4.3"
  }
 },
 "nbformat": 4,
 "nbformat_minor": 0
}
