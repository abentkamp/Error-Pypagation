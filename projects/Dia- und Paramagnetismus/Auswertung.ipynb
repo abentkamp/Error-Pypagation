{
 "cells": [
  {
   "cell_type": "code",
   "execution_count": 34,
   "metadata": {
    "collapsed": false
   },
   "outputs": [],
   "source": [
    "import sys\n",
    "sys.path.append('../')\n",
    "sys.path.append('../../')\n",
    "\n",
    "%matplotlib inline\n",
    "\n",
    "from errorpro.default import *\n",
    "p = default_project"
   ]
  },
  {
   "cell_type": "code",
   "execution_count": 35,
   "metadata": {
    "collapsed": false
   },
   "outputs": [],
   "source": [
    "load(\"teil1.dat\")"
   ]
  },
  {
   "cell_type": "code",
   "execution_count": 36,
   "metadata": {
    "collapsed": false
   },
   "outputs": [
    {
     "data": {
      "text/latex": [
       "Displaying: $a_{0}$, $a_{1}$, $a_{2}$, $a_{3}$, $a_{4}$<div width=20px/><button onclick='var e = document.getElementById(\"d47\").style;if (e.display==\"none\"){e.display=\"block\";}else {e.display=\"none\";}'>Data</button><button onclick='var e = document.getElementById(\"d48\").style;if (e.display==\"none\"){e.display=\"block\";}else {e.display=\"none\";}'>LaTeX</button><hr/><div id=\"d47\" style=\"display:none\"> <table style=\"border:0;width:100%;border-collapse:collapse;\">\n",
       "\t<tr style=\"border:0;border-top:1px solid black;border-bottom:1px solid black;\">\n",
       "\t\t<td style=\"border:0;border-left:1px solid black;border-right:1px solid black;text-align:center;\">$a_{0} \\; \\mathrm{\\left[T\\right]}$</td>\n",
       "\t\t<td style=\"border:0;border-left:1px solid black;border-right:1px solid black;text-align:center;\">$a_{1} \\; \\mathrm{\\left[\\frac{mT}{m}\\right]}$</td>\n",
       "\t\t<td style=\"border:0;border-left:1px solid black;border-right:1px solid black;text-align:center;\">$a_{2} \\; \\mathrm{\\left[\\frac{Pa}{A m}\\right]}$</td>\n",
       "\t\t<td style=\"border:0;border-left:1px solid black;border-right:1px solid black;text-align:center;\">$a_{3} \\; \\mathrm{\\left[\\frac{Pa}{A m^{2}}\\right]}$</td>\n",
       "\t\t<td style=\"border:0;border-left:1px solid black;border-right:1px solid black;text-align:center;\">$a_{4} \\; \\mathrm{\\left[\\frac{Pa}{A m^{3}}\\right]}$</td>\n",
       "\t</tr>\n",
       "\t<tr style=\"border:0;border-top:1px solid black;border-bottom:1px solid black;\">\n",
       "\t\t<td style=\"border:0;border-left:1px solid black;border-right:1px solid black;text-align:center;\">$1.198 \\pm 0.017$</td>\n",
       "\t\t<td style=\"border:0;border-left:1px solid black;border-right:1px solid black;text-align:center;\">$(-221 \\pm 18) \\times 10^{2}$</td>\n",
       "\t\t<td style=\"border:0;border-left:1px solid black;border-right:1px solid black;text-align:center;\">$160 \\pm 70$</td>\n",
       "\t\t<td style=\"border:0;border-left:1px solid black;border-right:1px solid black;text-align:center;\">$(5 \\pm 10) \\times 10^{2}$</td>\n",
       "\t\t<td style=\"border:0;border-left:1px solid black;border-right:1px solid black;text-align:center;\">$(-10 \\pm 6) \\times 10^{3}$</td>\n",
       "\t</tr>\n",
       "</table> </div><br><div id=\"d48\" style=\"display:none\"> \\begin{table}[H]\n",
       "\\centering\n",
       "\t\\begin{tabular}{|c|c|c|c|c|}\n",
       "\t\\hline\n",
       "\t$a_{0} \\; \\mathrm{\\left[T\\right]}$ & $a_{1} \\; \\mathrm{\\left[\\frac{mT}{m}\\right]}$ & $a_{2} \\; \\mathrm{\\left[\\frac{Pa}{A m}\\right]}$ & $a_{3} \\; \\mathrm{\\left[\\frac{Pa}{A m^{2}}\\right]}$ & $a_{4} \\; \\mathrm{\\left[\\frac{Pa}{A m^{3}}\\right]}$\\\\ \\hline\n",
       "\t$1.198 \\pm 0.017$ & $(-221 \\pm 18) \\times 10^{2}$ & $160 \\pm 70$ & $(5 \\pm 10) \\times 10^{2}$ & $(-10 \\pm 6) \\times 10^{3}$\\\\ \\hline\n",
       "\t\\end{tabular}\n",
       "\\end{table} </div>"
      ],
      "text/plain": [
       "<IPython.core.display.Latex object>"
      ]
     },
     "execution_count": 36,
     "metadata": {},
     "output_type": "execute_result"
    }
   ],
   "source": [
    "fit(\"a4*p**4 + a3*p**3 + a2*p**2 + a1*p + a0\", [\"p\",\"B\"], [\"a0\",\"a1\",\"a2\",\"a3\",\"a4\"])"
   ]
  },
  {
   "cell_type": "code",
   "execution_count": 37,
   "metadata": {
    "collapsed": false
   },
   "outputs": [],
   "source": [
    "# differentiate fit function\n",
    "from sympy import diff\n",
    "from errorpro.quantities import parse_expr\n",
    "fit_function = parse_expr(\"a4*p**4 + a2*p**2 + a1*p + a0\",p.data)\n",
    "ableitung = diff(fit_function, p.data[\"p\"])\n",
    "BdBdh = fit_function*ableitung\n",
    "\n",
    "# save values of B*dB/dh at certain positions\n",
    "Bi = BdBdh.subs(p[\"p\"],p.data[\"p_Bi_m\"])\n",
    "assign(\"BdBdh_Bi\", value=Bi, unit=\"T**2/m\")\n",
    "Mn = BdBdh.subs(p.data[\"p\"],p.data[\"p_Mn_m\"])\n",
    "assign(\"BdBdh_Mn\", value=Mn, unit=\"T**2/m\")\n",
    "Ta = BdBdh.subs(p.data[\"p\"],p.data[\"p_Ta_m\"])\n",
    "assign(\"BdBdh_Ta\", value=Ta, unit=\"T**2/m\")"
   ]
  },
  {
   "cell_type": "code",
   "execution_count": 38,
   "metadata": {
    "collapsed": false,
    "scrolled": true
   },
   "outputs": [],
   "source": [
    "%%calc\n",
    "chi_Bi = F_Bi*mu0/(m_Bi/rho_Bi)/BdBdh_Bi\n",
    "chi_Mn = F_Mn*mu0/(m_Mn/rho_Mn)/BdBdh_Mn\n",
    "chi_Ta = F_Ta*mu0/(m_Ta/rho_Ta)/BdBdh_Ta"
   ]
  },
  {
   "cell_type": "code",
   "execution_count": null,
   "metadata": {
    "collapsed": false
   },
   "outputs": [],
   "source": [
    "table(\"chi_Bi\",\"chi_Mn\",\"chi_Ta\")"
   ]
  },
  {
   "cell_type": "code",
   "execution_count": null,
   "metadata": {
    "collapsed": false
   },
   "outputs": [],
   "source": [
    "load(\"teil2.dat\")"
   ]
  },
  {
   "cell_type": "code",
   "execution_count": null,
   "metadata": {
    "collapsed": true
   },
   "outputs": [],
   "source": []
  }
 ],
 "metadata": {
  "kernelspec": {
   "display_name": "Python 3",
   "language": "python",
   "name": "python3"
  },
  "language_info": {
   "codemirror_mode": {
    "name": "ipython",
    "version": 3
   },
   "file_extension": ".py",
   "mimetype": "text/x-python",
   "name": "python",
   "nbconvert_exporter": "python",
   "pygments_lexer": "ipython3",
   "version": "3.4.3"
  }
 },
 "nbformat": 4,
 "nbformat_minor": 0
}
