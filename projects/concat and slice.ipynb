{
 "cells": [
  {
   "cell_type": "code",
   "execution_count": 1,
   "metadata": {
    "collapsed": true
   },
   "outputs": [],
   "source": [
    "import sys\n",
    "sys.path.append('../')\n",
    "sys.path.append('../../')\n",
    "from errorpro.interactive import *\n",
    "init(locals())"
   ]
  },
  {
   "cell_type": "code",
   "execution_count": 8,
   "metadata": {
    "collapsed": false
   },
   "outputs": [],
   "source": [
    "%%eq\n",
    "a = 1 <1>\n",
    "b = 0.2 <2>\n",
    "c = 3 <3>\n",
    "{d <0.1>\n",
    " 1\n",
    " 2\n",
    " 3\n",
    "}"
   ]
  },
  {
   "cell_type": "code",
   "execution_count": 10,
   "metadata": {
    "collapsed": false
   },
   "outputs": [
    {
     "data": {
      "text/html": [
       "Displaying: $test$<div width=20px/><button onclick='var e = document.getElementById(\"d13\").style;if (e.display==\"none\"){e.display=\"block\";}else {e.display=\"none\";}'>Data</button><button onclick='var e = document.getElementById(\"d14\").style;if (e.display==\"none\"){e.display=\"block\";}else {e.display=\"none\";}'>LaTeX</button><hr/><div id=\"d13\" style=\"display:block\"> <table style=\"border:0;width:100%;border-collapse:collapse;\">\n",
       "\t<tr style=\"border:0;border-top:1px solid black;border-bottom:1px solid black;\">\n",
       "\t\t<td style=\"border:0;border-left:1px solid black;border-right:1px solid black;text-align:center;\">concattized $test \\; \\mathrm{\\left[1\\right]}$</td>\n",
       "\t</tr>\n",
       "\t<tr style=\"border:0;border-top:1px solid black;border-bottom:0;\">\n",
       "\t\t<td style=\"border:0;border-left:1px solid black;border-right:1px solid black;text-align:center;\">$1.0 \\phantom{0} \\pm 1.0 \\phantom{0}$</td>\n",
       "\t</tr>\n",
       "\t<tr style=\"border:0;border-top:0;border-bottom:0;\">\n",
       "\t\t<td style=\"border:0;border-left:1px solid black;border-right:1px solid black;text-align:center;\">$0.2 \\phantom{0} \\pm 2.0 \\phantom{0}$</td>\n",
       "\t</tr>\n",
       "\t<tr style=\"border:0;border-top:0;border-bottom:0;\">\n",
       "\t\t<td style=\"border:0;border-left:1px solid black;border-right:1px solid black;text-align:center;\">$1.00 \\pm 0.10$</td>\n",
       "\t</tr>\n",
       "\t<tr style=\"border:0;border-top:0;border-bottom:0;\">\n",
       "\t\t<td style=\"border:0;border-left:1px solid black;border-right:1px solid black;text-align:center;\">$2.00 \\pm 0.10$</td>\n",
       "\t</tr>\n",
       "\t<tr style=\"border:0;border-top:0;border-bottom:1px solid black;\">\n",
       "\t\t<td style=\"border:0;border-left:1px solid black;border-right:1px solid black;text-align:center;\">$3.00 \\pm 0.10$</td>\n",
       "\t</tr>\n",
       "</table> </div><br><div id=\"d14\" style=\"display:none\"> \\begin{table}[H]\n",
       "\\centering\n",
       "\t\\begin{tabular}{|c|}\n",
       "\t\\hline\n",
       "\tconcattized $test \\; \\mathrm{\\left[1\\right]}$\\\\ \\hline\n",
       "\t$1.0 \\phantom{0} \\pm 1.0 \\phantom{0}$\\\\ \n",
       "\t$0.2 \\phantom{0} \\pm 2.0 \\phantom{0}$\\\\ \n",
       "\t$1.00 \\pm 0.10$\\\\ \n",
       "\t$2.00 \\pm 0.10$\\\\ \n",
       "\t$3.00 \\pm 0.10$\\\\ \\hline\n",
       "\t\\end{tabular}\n",
       "\\end{table} </div>"
      ],
      "text/plain": [
       "test"
      ]
     },
     "execution_count": 10,
     "metadata": {},
     "output_type": "execute_result"
    }
   ],
   "source": [
    "z = concat(a,b,d, name=\"test\", longname=\"concattized\")\n",
    "z"
   ]
  },
  {
   "cell_type": "code",
   "execution_count": 11,
   "metadata": {
    "collapsed": false
   },
   "outputs": [
    {
     "data": {
      "text/html": [
       "Displaying: $NoName_{5}$<div width=20px/><button onclick='var e = document.getElementById(\"d15\").style;if (e.display==\"none\"){e.display=\"block\";}else {e.display=\"none\";}'>Data</button><button onclick='var e = document.getElementById(\"d16\").style;if (e.display==\"none\"){e.display=\"block\";}else {e.display=\"none\";}'>LaTeX</button><hr/><div id=\"d15\" style=\"display:block\"> <table style=\"border:0;width:100%;border-collapse:collapse;\">\n",
       "\t<tr style=\"border:0;border-top:1px solid black;border-bottom:1px solid black;\">\n",
       "\t\t<td style=\"border:0;border-left:1px solid black;border-right:1px solid black;text-align:center;\">$NoName_{5} \\; \\mathrm{\\left[1\\right]}$</td>\n",
       "\t</tr>\n",
       "\t<tr style=\"border:0;border-top:1px solid black;border-bottom:0;\">\n",
       "\t\t<td style=\"border:0;border-left:1px solid black;border-right:1px solid black;text-align:center;\">$0.2 \\phantom{0} \\pm 2.0 \\phantom{0}$</td>\n",
       "\t</tr>\n",
       "\t<tr style=\"border:0;border-top:0;border-bottom:0;\">\n",
       "\t\t<td style=\"border:0;border-left:1px solid black;border-right:1px solid black;text-align:center;\">$1.00 \\pm 0.10$</td>\n",
       "\t</tr>\n",
       "\t<tr style=\"border:0;border-top:0;border-bottom:0;\">\n",
       "\t\t<td style=\"border:0;border-left:1px solid black;border-right:1px solid black;text-align:center;\">$2.00 \\pm 0.10$</td>\n",
       "\t</tr>\n",
       "\t<tr style=\"border:0;border-top:0;border-bottom:1px solid black;\">\n",
       "\t\t<td style=\"border:0;border-left:1px solid black;border-right:1px solid black;text-align:center;\">$3.00 \\pm 0.10$</td>\n",
       "\t</tr>\n",
       "</table> </div><br><div id=\"d16\" style=\"display:none\"> \\begin{table}[H]\n",
       "\\centering\n",
       "\t\\begin{tabular}{|c|}\n",
       "\t\\hline\n",
       "\t$NoName_{5} \\; \\mathrm{\\left[1\\right]}$\\\\ \\hline\n",
       "\t$0.2 \\phantom{0} \\pm 2.0 \\phantom{0}$\\\\ \n",
       "\t$1.00 \\pm 0.10$\\\\ \n",
       "\t$2.00 \\pm 0.10$\\\\ \n",
       "\t$3.00 \\pm 0.10$\\\\ \\hline\n",
       "\t\\end{tabular}\n",
       "\\end{table} </div>"
      ],
      "text/plain": [
       "NoName_5"
      ]
     },
     "execution_count": 11,
     "metadata": {},
     "output_type": "execute_result"
    }
   ],
   "source": [
    "slice(z,1)"
   ]
  },
  {
   "cell_type": "code",
   "execution_count": null,
   "metadata": {
    "collapsed": true
   },
   "outputs": [],
   "source": []
  }
 ],
 "metadata": {
  "kernelspec": {
   "display_name": "Python 3",
   "language": "python",
   "name": "python3"
  },
  "language_info": {
   "codemirror_mode": {
    "name": "ipython",
    "version": 3
   },
   "file_extension": ".py",
   "mimetype": "text/x-python",
   "name": "python",
   "nbconvert_exporter": "python",
   "pygments_lexer": "ipython3",
   "version": "3.4.3"
  }
 },
 "nbformat": 4,
 "nbformat_minor": 0
}
