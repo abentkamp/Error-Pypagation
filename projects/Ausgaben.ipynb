{
 "cells": [
  {
   "cell_type": "code",
   "execution_count": 1,
   "metadata": {
    "collapsed": true
   },
   "outputs": [],
   "source": [
    "import sys\n",
    "sys.path.append('../')\n",
    "sys.path.append('../../')\n",
    "from errorpro.interactive import *\n",
    "init(locals())"
   ]
  },
  {
   "cell_type": "code",
   "execution_count": 54,
   "metadata": {
    "collapsed": true
   },
   "outputs": [],
   "source": [
    "%%eq\n",
    "{Spannung U <200> [V]\n",
    " 123234\n",
    " 123452\n",
    "}"
   ]
  },
  {
   "cell_type": "code",
   "execution_count": 55,
   "metadata": {
    "collapsed": false
   },
   "outputs": [
    {
     "data": {
      "text/html": [
       "Displaying: $U$<div width=20px/><button onclick='var e = document.getElementById(\"d51\").style;if (e.display==\"none\"){e.display=\"block\";}else {e.display=\"none\";}'>Data</button><button onclick='var e = document.getElementById(\"d52\").style;if (e.display==\"none\"){e.display=\"block\";}else {e.display=\"none\";}'>LaTeX</button><hr/><div id=\"d51\" style=\"display:block\"> <table style=\"border:0;width:100%;border-collapse:collapse;\">\n",
       "\t<tr style=\"border:0;border-top:1px solid black;border-bottom:1px solid black;\">\n",
       "\t\t<td style=\"border:0;border-left:1px solid black;border-right:1px solid black;text-align:center;\">Spannung $U \\; \\mathrm{\\left[V\\right]}$</td>\n",
       "\t</tr>\n",
       "\t<tr style=\"border:0;border-top:1px solid black;border-bottom:0;\">\n",
       "\t\t<td style=\"border:0;border-left:1px solid black;border-right:1px solid black;text-align:center;\">$123230 \\pm 200$</td>\n",
       "\t</tr>\n",
       "\t<tr style=\"border:0;border-top:0;border-bottom:1px solid black;\">\n",
       "\t\t<td style=\"border:0;border-left:1px solid black;border-right:1px solid black;text-align:center;\">$123450 \\pm 200$</td>\n",
       "\t</tr>\n",
       "</table> </div><br><div id=\"d52\" style=\"display:none\"> \\begin{table}[H]\n",
       "\\centering\n",
       "\t\\begin{tabular}{|c|}\n",
       "\t\\hline\n",
       "\tSpannung $U \\; \\mathrm{\\left[V\\right]}$\\\\ \\hline\n",
       "\t$123230 \\pm 200$\\\\ \n",
       "\t$123450 \\pm 200$\\\\ \\hline\n",
       "\t\\end{tabular}\n",
       "\\end{table} </div>"
      ],
      "text/plain": [
       "U"
      ]
     },
     "execution_count": 55,
     "metadata": {},
     "output_type": "execute_result"
    }
   ],
   "source": [
    "U"
   ]
  }
 ],
 "metadata": {
  "kernelspec": {
   "display_name": "Python 3",
   "language": "python",
   "name": "python3"
  },
  "language_info": {
   "codemirror_mode": {
    "name": "ipython",
    "version": 3
   },
   "file_extension": ".py",
   "mimetype": "text/x-python",
   "name": "python",
   "nbconvert_exporter": "python",
   "pygments_lexer": "ipython3",
   "version": "3.4.3"
  }
 },
 "nbformat": 4,
 "nbformat_minor": 0
}
