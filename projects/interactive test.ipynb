{
 "cells": [
  {
   "cell_type": "code",
   "execution_count": 1,
   "metadata": {
    "collapsed": false
   },
   "outputs": [],
   "source": [
    "import sys\n",
    "sys.path.append('../')\n",
    "sys.path.append('../../')\n",
    "\n",
    "from errorpro.interactive import *\n",
    "init(locals())\n"
   ]
  },
  {
   "cell_type": "code",
   "execution_count": 2,
   "metadata": {
    "collapsed": false
   },
   "outputs": [
    {
     "name": "stdout",
     "output_type": "stream",
     "text": [
      "[ 1.05        0.93333333]\n",
      "[ 0.01443376  0.03118048]\n"
     ]
    }
   ],
   "source": [
    "from scipy.optimize import curve_fit\n",
    "from numpy import float_\n",
    "def func(x, m, b):\n",
    "    return m*x+b\n",
    "xdata = (float_([[1,2,3],[1,2,3]])).flatten()\n",
    "ydata = (float_([[2,3,4.1],[2,3,4.1]])).flatten()\n",
    "params_opt, params_covar = curve_fit(func, xdata, ydata)\n",
    "print(params_opt)\n",
    "print(np.sqrt(np.diag(params_covar)))"
   ]
  },
  {
   "cell_type": "code",
   "execution_count": 3,
   "metadata": {
    "collapsed": false
   },
   "outputs": [],
   "source": [
    "%%eq\n",
    "z = 2 <0.1> [m]\n",
    "a = z**2"
   ]
  },
  {
   "cell_type": "code",
   "execution_count": 4,
   "metadata": {
    "collapsed": false
   },
   "outputs": [
    {
     "data": {
      "text/html": [
       "Displaying: $a$<div width=20px/><button onclick='var e = document.getElementById(\"d1\").style;if (e.display==\"none\"){e.display=\"block\";}else {e.display=\"none\";}'>Data</button><button onclick='var e = document.getElementById(\"d2\").style;if (e.display==\"none\"){e.display=\"block\";}else {e.display=\"none\";}'>LaTeX</button><hr/><div id=\"d1\" style=\"display:block\"> <table style=\"border:0;width:100%;border-collapse:collapse;\">\n",
       "\t<tr style=\"border:0;border-top:1px solid black;border-bottom:1px solid black;\">\n",
       "\t\t<td style=\"border:0;border-left:1px solid black;border-right:1px solid black;text-align:center;\">$a \\; \\mathrm{\\left[1\\right]}$</td>\n",
       "\t</tr>\n",
       "\t<tr style=\"border:0;border-top:1px solid black;border-bottom:1px solid black;\">\n",
       "\t\t<td style=\"border:0;border-left:1px solid black;border-right:1px solid black;text-align:center;\">$-0.76 \\pm 0.27$</td>\n",
       "\t</tr>\n",
       "</table> </div><br><div id=\"d2\" style=\"display:none\"> \\begin{table}[H]\n",
       "\\centering\n",
       "\t\\begin{tabular}{|c|}\n",
       "\t\\hline\n",
       "\t$a \\; \\mathrm{\\left[1\\right]}$\\\\ \\hline\n",
       "\t$-0.76 \\pm 0.27$\\\\ \\hline\n",
       "\t\\end{tabular}\n",
       "\\end{table} </div>"
      ],
      "text/plain": [
       "a"
      ]
     },
     "execution_count": 4,
     "metadata": {},
     "output_type": "execute_result"
    }
   ],
   "source": [
    "z = assign(2,0.1,name=\"z\")\n",
    "a = assign(sin(z**2),name=\"a\")\n",
    "a"
   ]
  },
  {
   "cell_type": "code",
   "execution_count": 5,
   "metadata": {
    "collapsed": true
   },
   "outputs": [],
   "source": [
    "import sys\n",
    "sys.path.append('../')\n",
    "sys.path.append('../../')\n",
    "\n",
    "from errorpro.interactive import *\n",
    "init(locals())\n"
   ]
  },
  {
   "cell_type": "code",
   "execution_count": 6,
   "metadata": {
    "collapsed": false
   },
   "outputs": [],
   "source": [
    "%%eq\n",
    "{\n",
    "t [s], E [J]\n",
    "    1 6.3\n",
    "    2 7.4\n",
    "    3 7.9\n",
    "    4 8.7\n",
    "    5 9.5\n",
    "    6 10.3\n",
    "}"
   ]
  },
  {
   "cell_type": "code",
   "execution_count": 7,
   "metadata": {
    "collapsed": false
   },
   "outputs": [
    {
     "data": {
      "text/plain": [
       "array([[ 1. ,  3. ,  4. ,  5. ,  6. ,  7. ],\n",
       "       [ 2.1,  0. , -0.1, -0.2, -0.3, -0.5],\n",
       "       [ 3. , -3. ,  5. ,  6. ,  7. ,  8. ]])"
      ]
     },
     "execution_count": 7,
     "metadata": {},
     "output_type": "execute_result"
    }
   ],
   "source": [
    "a = [1,3,4,5,6,7]\n",
    "b = [2.1,0,-0.1,-0.2,-0.3,-0.5]\n",
    "c = [3,-3,5,6,7,8]\n",
    "short = assign([3,4,5])\n",
    "E = assign([a,b,c],[0.2,3,4,1,0.5,2],name=\"E\")\n",
    "F = assign([a,b,c],name=\"F\")\n",
    "#np.float_([[2,3,4,5,6],[34,4,5,6,7,4]])\n",
    "E.value"
   ]
  },
  {
   "cell_type": "code",
   "execution_count": 8,
   "metadata": {
    "collapsed": false
   },
   "outputs": [
    {
     "name": "stderr",
     "output_type": "stream",
     "text": [
      "../errorpro/pytex.py:226: VisibleDeprecationWarning: using a boolean instead of an integer will result in an error in the future\n",
      "  lbuff = r'\\phantom{+} ' * sgn\n",
      "../errorpro/pytex.py:244: VisibleDeprecationWarning: using a boolean instead of an integer will result in an error in the future\n",
      "  rbuff = r' \\phantom{%s%s}' % ('.' * (diff == dright), '0' * diff)\n"
     ]
    },
    {
     "data": {
      "text/latex": [
       "Results of fit<div width=20px/><button onclick='var e = document.getElementById(\"d3\").style;if (e.display==\"none\"){e.display=\"block\";}else {e.display=\"none\";}'>Results</button><button onclick='var e = document.getElementById(\"d4\").style;if (e.display==\"none\"){e.display=\"block\";}else {e.display=\"none\";}'>Plot</button><hr/><div id=\"d3\" style=\"display:block\"> <table style=\"border:0;width:100%;border-collapse:collapse;\">\n",
       "\t<tr style=\"border:0;border-top:1px solid black;border-bottom:1px solid black;\">\n",
       "\t\t<td style=\"border:0;border-left:1px solid black;border-right:1px solid black;text-align:center;\">$m \\; \\mathrm{\\left[\\frac{1}{s}\\right]}$</td>\n",
       "\t\t<td style=\"border:0;border-left:1px solid black;border-right:1px solid black;text-align:center;\">$b \\; \\mathrm{\\left[1\\right]}$</td>\n",
       "\t</tr>\n",
       "\t<tr style=\"border:0;border-top:1px solid black;border-bottom:0;\">\n",
       "\t\t<td style=\"border:0;border-left:1px solid black;border-right:1px solid black;text-align:center;\">$\\phantom{+} 1.256 \\pm 0.024$</td>\n",
       "\t\t<td style=\"border:0;border-left:1px solid black;border-right:1px solid black;text-align:center;\">$-0.25 \\pm 0.06$</td>\n",
       "\t</tr>\n",
       "\t<tr style=\"border:0;border-top:0;border-bottom:0;\">\n",
       "\t\t<td style=\"border:0;border-left:1px solid black;border-right:1px solid black;text-align:center;\">$-0.61 \\phantom{0} \\pm 0.05 \\phantom{0}$</td>\n",
       "\t\t<td style=\"border:0;border-left:1px solid black;border-right:1px solid black;text-align:center;\">$\\phantom{+} 2.70 \\pm 0.11$</td>\n",
       "\t</tr>\n",
       "\t<tr style=\"border:0;border-top:0;border-bottom:1px solid black;\">\n",
       "\t\t<td style=\"border:0;border-left:1px solid black;border-right:1px solid black;text-align:center;\">$\\phantom{+} 1.00 \\phantom{0} \\pm 0.15 \\phantom{0}$</td>\n",
       "\t\t<td style=\"border:0;border-left:1px solid black;border-right:1px solid black;text-align:center;\">$\\phantom{+} 2.0 \\phantom{0} \\pm 0.4 \\phantom{0}$</td>\n",
       "\t</tr>\n",
       "</table> </div><br><div id=\"d4\" style=\"display:none\"> blub </div>"
      ],
      "text/plain": [
       "<IPython.core.display.Latex object>"
      ]
     },
     "execution_count": 8,
     "metadata": {},
     "output_type": "execute_result"
    }
   ],
   "source": [
    "\n",
    "m,b = params(\"m b\")\n",
    "fit(m*t + b, t, E, [m,b], ydata_axes=1)"
   ]
  },
  {
   "cell_type": "code",
   "execution_count": null,
   "metadata": {
    "collapsed": true
   },
   "outputs": [],
   "source": []
  }
 ],
 "metadata": {
  "kernelspec": {
   "display_name": "Python 3",
   "language": "python",
   "name": "python3"
  },
  "language_info": {
   "codemirror_mode": {
    "name": "ipython",
    "version": 3
   },
   "file_extension": ".py",
   "mimetype": "text/x-python",
   "name": "python",
   "nbconvert_exporter": "python",
   "pygments_lexer": "ipython3",
   "version": "3.5.1"
  }
 },
 "nbformat": 4,
 "nbformat_minor": 0
}
