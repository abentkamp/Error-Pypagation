{
 "cells": [
  {
   "cell_type": "code",
   "execution_count": 10,
   "metadata": {
    "collapsed": false
   },
   "outputs": [],
   "source": [
    "import sys\n",
    "sys.path.append('../')\n",
    "sys.path.append('../../')\n",
    "\n",
    "from errorpro.interactive import *\n",
    "init(locals())\n"
   ]
  },
  {
   "cell_type": "code",
   "execution_count": 76,
   "metadata": {
    "collapsed": false
   },
   "outputs": [
    {
     "name": "stdout",
     "output_type": "stream",
     "text": [
      "[[[ 0  1  2  3]\n",
      "  [ 4  5  6  7]\n",
      "  [ 8  9 10 11]]\n",
      "\n",
      " [[12 13 14 15]\n",
      "  [16 17 18 19]\n",
      "  [20 21 22 23]]]\n",
      "0\n",
      "1\n",
      "2\n",
      "3\n",
      "4\n",
      "5\n",
      "6\n",
      "7\n",
      "8\n",
      "9\n",
      "10\n",
      "11\n"
     ]
    }
   ],
   "source": [
    "import numpy as np\n",
    "a = np.arange(24).reshape(2,3,4)\n",
    "print(a)\n",
    "for x in np.nditer([a], op_flags=[\"readonly\",\"allocate\"], op_axes=[[1,2]], itershape=(3,4)):\n",
    "    print(x)"
   ]
  },
  {
   "cell_type": "code",
   "execution_count": 6,
   "metadata": {
    "collapsed": false
   },
   "outputs": [
    {
     "name": "stdout",
     "output_type": "stream",
     "text": [
      "[ 1.05        0.93333333]\n",
      "[ 0.01443376  0.03118048]\n"
     ]
    }
   ],
   "source": [
    "from scipy.optimize import curve_fit\n",
    "from numpy import float_\n",
    "def func(x, m, b):\n",
    "    return m*x+b\n",
    "xdata = (float_([[1,2,3],[1,2,3]])).flatten()\n",
    "ydata = (float_([[2,3,4.1],[2,3,4.1]])).flatten()\n",
    "params_opt, params_covar = curve_fit(func, xdata, ydata)\n",
    "print(params_opt)\n",
    "print(np.sqrt(np.diag(params_covar)))"
   ]
  },
  {
   "cell_type": "code",
   "execution_count": 2,
   "metadata": {
    "collapsed": false
   },
   "outputs": [],
   "source": [
    "%%eq\n",
    "z = 2 <0.1> [m]\n",
    "a = z**2"
   ]
  },
  {
   "cell_type": "code",
   "execution_count": 3,
   "metadata": {
    "collapsed": false
   },
   "outputs": [
    {
     "data": {
      "text/html": [
       "Displaying: $a$<div width=20px/><button onclick='var e = document.getElementById(\"d1\").style;if (e.display==\"none\"){e.display=\"block\";}else {e.display=\"none\";}'>Data</button><button onclick='var e = document.getElementById(\"d2\").style;if (e.display==\"none\"){e.display=\"block\";}else {e.display=\"none\";}'>LaTeX</button><hr/><div id=\"d1\" style=\"display:block\"> <table style=\"border:0;width:100%;border-collapse:collapse;\">\n",
       "\t<tr style=\"border:0;border-top:1px solid black;border-bottom:1px solid black;\">\n",
       "\t\t<td style=\"border:0;border-left:1px solid black;border-right:1px solid black;text-align:center;\">$a \\; \\mathrm{\\left[1\\right]}$</td>\n",
       "\t</tr>\n",
       "\t<tr style=\"border:0;border-top:1px solid black;border-bottom:1px solid black;\">\n",
       "\t\t<td style=\"border:0;border-left:1px solid black;border-right:1px solid black;text-align:center;\">$-0.76 \\pm 0.27$</td>\n",
       "\t</tr>\n",
       "</table> </div><br><div id=\"d2\" style=\"display:none\"> \\begin{table}[H]\n",
       "\\centering\n",
       "\t\\begin{tabular}{|c|}\n",
       "\t\\hline\n",
       "\t$a \\; \\mathrm{\\left[1\\right]}$\\\\ \\hline\n",
       "\t$-0.76 \\pm 0.27$\\\\ \\hline\n",
       "\t\\end{tabular}\n",
       "\\end{table} </div>"
      ],
      "text/plain": [
       "a"
      ]
     },
     "execution_count": 3,
     "metadata": {},
     "output_type": "execute_result"
    }
   ],
   "source": [
    "z = assign(2,0.1,name=\"z\")\n",
    "a = assign(sin(z**2),name=\"a\")\n",
    "a"
   ]
  },
  {
   "cell_type": "code",
   "execution_count": 4,
   "metadata": {
    "collapsed": false
   },
   "outputs": [],
   "source": [
    "%%eq\n",
    "{\n",
    "t [s], E [J]\n",
    "    1 6.3\n",
    "    2 7.4\n",
    "    3 7.9\n",
    "    4 8.7\n",
    "    5 9.5\n",
    "    6 10.3\n",
    "}"
   ]
  },
  {
   "cell_type": "code",
   "execution_count": 23,
   "metadata": {
    "collapsed": false
   },
   "outputs": [
    {
     "data": {
      "text/latex": [
       "Results of fit<div width=20px/><button onclick='var e = document.getElementById(\"d25\").style;if (e.display==\"none\"){e.display=\"block\";}else {e.display=\"none\";}'>Results</button><button onclick='var e = document.getElementById(\"d26\").style;if (e.display==\"none\"){e.display=\"block\";}else {e.display=\"none\";}'>Plot</button><hr/><div id=\"d25\" style=\"display:block\"> <table style=\"border:0;width:100%;border-collapse:collapse;\">\n",
       "\t<tr style=\"border:0;border-top:1px solid black;border-bottom:1px solid black;\">\n",
       "\t\t<td style=\"border:0;border-left:1px solid black;border-right:1px solid black;text-align:center;\">$m \\; \\mathrm{\\left[W\\right]}$</td>\n",
       "\t\t<td style=\"border:0;border-left:1px solid black;border-right:1px solid black;text-align:center;\">$b \\; \\mathrm{\\left[J\\right]}$</td>\n",
       "\t</tr>\n",
       "\t<tr style=\"border:0;border-top:1px solid black;border-bottom:1px solid black;\">\n",
       "\t\t<td style=\"border:0;border-left:1px solid black;border-right:1px solid black;text-align:center;\">$0.77 \\pm 0.04$</td>\n",
       "\t\t<td style=\"border:0;border-left:1px solid black;border-right:1px solid black;text-align:center;\">$5.64 \\pm 0.12$</td>\n",
       "\t</tr>\n",
       "</table> </div><br><div id=\"d26\" style=\"display:none\"> blub </div>"
      ],
      "text/plain": [
       "<IPython.core.display.Latex object>"
      ]
     },
     "execution_count": 23,
     "metadata": {},
     "output_type": "execute_result"
    }
   ],
   "source": [
    "fit(m*t + b, t, E, [m,b], weighted=False)"
   ]
  }
 ],
 "metadata": {
  "kernelspec": {
   "display_name": "Python 3",
   "language": "python",
   "name": "python3"
  },
  "language_info": {
   "codemirror_mode": {
    "name": "ipython",
    "version": 3
   },
   "file_extension": ".py",
   "mimetype": "text/x-python",
   "name": "python",
   "nbconvert_exporter": "python",
   "pygments_lexer": "ipython3",
   "version": "3.4.3"
  }
 },
 "nbformat": 4,
 "nbformat_minor": 0
}
