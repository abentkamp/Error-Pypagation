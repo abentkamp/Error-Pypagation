{
 "cells": [
  {
   "cell_type": "code",
   "execution_count": null,
   "metadata": {
    "collapsed": false
   },
   "outputs": [],
   "source": [
    "import sys\n",
    "sys.path.append('../')\n",
    "sys.path.append('../../')\n",
    "\n",
    "from errorpro.interactive import *\n",
    "init(locals())\n"
   ]
  },
  {
   "cell_type": "code",
   "execution_count": null,
   "metadata": {
    "collapsed": false
   },
   "outputs": [],
   "source": [
    "from scipy.optimize import curve_fit\n",
    "from numpy import float_\n",
    "def func(x, m, b):\n",
    "    return m*x+b\n",
    "xdata = (float_([[1,2,3],[1,2,3]])).flatten()\n",
    "ydata = (float_([[2,3,4.1],[2,3,4.1]])).flatten()\n",
    "params_opt, params_covar = curve_fit(func, xdata, ydata)\n",
    "print(params_opt)\n",
    "print(np.sqrt(np.diag(params_covar)))"
   ]
  },
  {
   "cell_type": "code",
   "execution_count": null,
   "metadata": {
    "collapsed": false
   },
   "outputs": [],
   "source": [
    "%%eq\n",
    "z = 2 <0.1> [m]\n",
    "a = z**2"
   ]
  },
  {
   "cell_type": "code",
   "execution_count": null,
   "metadata": {
    "collapsed": false
   },
   "outputs": [],
   "source": [
    "z = assign(2,0.1,name=\"z\")\n",
    "a = assign(sin(z**2),name=\"a\")\n",
    "a"
   ]
  },
  {
   "cell_type": "code",
   "execution_count": 1,
   "metadata": {
    "collapsed": true
   },
   "outputs": [],
   "source": [
    "import sys\n",
    "sys.path.append('../')\n",
    "sys.path.append('../../')\n",
    "\n",
    "from errorpro.interactive import *\n",
    "init(locals())\n"
   ]
  },
  {
   "cell_type": "code",
   "execution_count": 2,
   "metadata": {
    "collapsed": false
   },
   "outputs": [],
   "source": [
    "%%eq\n",
    "{\n",
    "t [s], E [J]\n",
    "    1 6.3\n",
    "    2 7.4\n",
    "    3 7.9\n",
    "    4 8.7\n",
    "    5 9.5\n",
    "    6 10.3\n",
    "}"
   ]
  },
  {
   "cell_type": "code",
   "execution_count": 7,
   "metadata": {
    "collapsed": false
   },
   "outputs": [
    {
     "data": {
      "text/plain": [
       "array([[ 1. ,  3. ,  4. ,  5. ,  6. ,  7. ],\n",
       "       [ 2.1,  0. , -0.1, -0.2, -0.3, -0.5],\n",
       "       [ 3. , -3. ,  5. ,  6. ,  7. ,  8. ]])"
      ]
     },
     "execution_count": 7,
     "metadata": {},
     "output_type": "execute_result"
    }
   ],
   "source": [
    "a = [1,3,4,5,6,7]\n",
    "b = [2.1,0,-0.1,-0.2,-0.3,-0.5]\n",
    "c = [3,-3,5,6,7,8]\n",
    "short = assign([3,4,5])\n",
    "E = assign([a,b,c],[0.2,3,4,1,0.5,2],name=\"E\")\n",
    "F = assign([a,b,c],name=\"F\")\n",
    "#np.float_([[2,3,4,5,6],[34,4,5,6,7,4]])\n",
    "E.value"
   ]
  },
  {
   "cell_type": "code",
   "execution_count": 8,
   "metadata": {
    "collapsed": false
   },
   "outputs": [
    {
     "name": "stdout",
     "output_type": "stream",
     "text": [
      "(array([ 1.        , -1.96666667]), array([[ 0.00333333, -0.01333333],\n",
      "       [-0.01333333,  0.05555555]]))\n",
      "(array([ -3.,  12.]), array([[ 0., -0.],\n",
      "       [-0.,  0.]]))\n",
      "(array([ 0.5       ,  0.96666667]), array([[   7.05333333,  -28.21333328],\n",
      "       [ -28.21333328,  117.55555507]]))\n",
      "(array([ 0.5,  1.6]), array([[  10.83      ,  -43.3200007 ],\n",
      "       [ -43.3200007 ,  180.50000583]]))\n",
      "(array([ 0.5       ,  2.23333333]), array([[  15.41333333,  -61.65333399],\n",
      "       [ -61.65333399,  256.88889438]]))\n",
      "(array([ 0.5       ,  2.83333333]), array([[  21.33333333,  -85.33333333],\n",
      "       [ -85.33333333,  355.55555556]]))\n"
     ]
    },
    {
     "data": {
      "text/latex": [
       "Results of fit<div width=20px/><button onclick='var e = document.getElementById(\"d5\").style;if (e.display==\"none\"){e.display=\"block\";}else {e.display=\"none\";}'>Results</button><button onclick='var e = document.getElementById(\"d6\").style;if (e.display==\"none\"){e.display=\"block\";}else {e.display=\"none\";}'>Plot</button><hr/><div id=\"d5\" style=\"display:block\"> <table style=\"border:0;width:100%;border-collapse:collapse;\">\n",
       "\t<tr style=\"border:0;border-top:1px solid black;border-bottom:1px solid black;\">\n",
       "\t\t<td style=\"border:0;border-left:1px solid black;border-right:1px solid black;text-align:center;\">$m \\; \\mathrm{\\left[1\\right]}$</td>\n",
       "\t\t<td style=\"border:0;border-left:1px solid black;border-right:1px solid black;text-align:center;\">$b \\; \\mathrm{\\left[1\\right]}$</td>\n",
       "\t</tr>\n",
       "\t<tr style=\"border:0;border-top:1px solid black;border-bottom:0;\">\n",
       "\t\t<td style=\"border:0;border-left:1px solid black;border-right:1px solid black;text-align:center;\">$\\phantom{+} 1.00 \\pm 0.06$</td>\n",
       "\t\t<td style=\"border:0;border-left:1px solid black;border-right:1px solid black;text-align:center;\">$-\\phantom{0} 1.97 \\pm \\phantom{0} 0.24$</td>\n",
       "\t</tr>\n",
       "\t<tr style=\"border:0;border-top:0;border-bottom:0;\">\n",
       "\t\t<td style=\"border:0;border-left:1px solid black;border-right:1px solid black;text-align:center;\">$-3.0 \\phantom{0} \\pm -0.1 \\phantom{0}$</td>\n",
       "\t\t<td style=\"border:0;border-left:1px solid black;border-right:1px solid black;text-align:center;\">$\\phantom{+} 12.0 \\phantom{0} \\pm -\\phantom{0} 0.1 \\phantom{0}$</td>\n",
       "\t</tr>\n",
       "\t<tr style=\"border:0;border-top:0;border-bottom:0;\">\n",
       "\t\t<td style=\"border:0;border-left:1px solid black;border-right:1px solid black;text-align:center;\">$\\phantom{+} 0.5 \\phantom{0} \\pm 2.7 \\phantom{0}$</td>\n",
       "\t\t<td style=\"border:0;border-left:1px solid black;border-right:1px solid black;text-align:center;\">$\\phantom{+0} 1 \\phantom{.00} \\pm 11 \\phantom{.00}$</td>\n",
       "\t</tr>\n",
       "\t<tr style=\"border:0;border-top:0;border-bottom:0;\">\n",
       "\t\t<td style=\"border:0;border-left:1px solid black;border-right:1px solid black;text-align:center;\">$\\phantom{+} 0 \\phantom{.00} \\pm 4 \\phantom{.00}$</td>\n",
       "\t\t<td style=\"border:0;border-left:1px solid black;border-right:1px solid black;text-align:center;\">$\\phantom{+0} 2 \\phantom{.00} \\pm 14 \\phantom{.00}$</td>\n",
       "\t</tr>\n",
       "\t<tr style=\"border:0;border-top:0;border-bottom:0;\">\n",
       "\t\t<td style=\"border:0;border-left:1px solid black;border-right:1px solid black;text-align:center;\">$\\phantom{+} 0 \\phantom{.00} \\pm 4 \\phantom{.00}$</td>\n",
       "\t\t<td style=\"border:0;border-left:1px solid black;border-right:1px solid black;text-align:center;\">$\\phantom{+0} 2 \\phantom{.00} \\pm 17 \\phantom{.00}$</td>\n",
       "\t</tr>\n",
       "\t<tr style=\"border:0;border-top:0;border-bottom:1px solid black;\">\n",
       "\t\t<td style=\"border:0;border-left:1px solid black;border-right:1px solid black;text-align:center;\">$\\phantom{+} 0 \\phantom{.00} \\pm 5 \\phantom{.00}$</td>\n",
       "\t\t<td style=\"border:0;border-left:1px solid black;border-right:1px solid black;text-align:center;\">$\\phantom{+0} 3 \\phantom{.00} \\pm 19 \\phantom{.00}$</td>\n",
       "\t</tr>\n",
       "</table> </div><br><div id=\"d6\" style=\"display:none\"> blub </div>"
      ],
      "text/plain": [
       "<IPython.core.display.Latex object>"
      ]
     },
     "execution_count": 8,
     "metadata": {},
     "output_type": "execute_result"
    }
   ],
   "source": [
    "\n",
    "m,b = params(\"m b\")\n",
    "fit(m*t + b, t, E, [m,b], ydata_axes=1)"
   ]
  },
  {
   "cell_type": "code",
   "execution_count": null,
   "metadata": {
    "collapsed": true
   },
   "outputs": [],
   "source": []
  }
 ],
 "metadata": {
  "kernelspec": {
   "display_name": "Python 3",
   "language": "python",
   "name": "python3"
  },
  "language_info": {
   "codemirror_mode": {
    "name": "ipython",
    "version": 3
   },
   "file_extension": ".py",
   "mimetype": "text/x-python",
   "name": "python",
   "nbconvert_exporter": "python",
   "pygments_lexer": "ipython3",
   "version": "3.4.3"
  }
 },
 "nbformat": 4,
 "nbformat_minor": 0
}
